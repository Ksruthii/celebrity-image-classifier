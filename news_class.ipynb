{
  "cells": [
    {
      "cell_type": "markdown",
      "metadata": {
        "id": "view-in-github",
        "colab_type": "text"
      },
      "source": [
        "<a href=\"https://colab.research.google.com/github/Ksruthii/celebrity-image-classifier/blob/main/news_class.ipynb\" target=\"_parent\"><img src=\"https://colab.research.google.com/assets/colab-badge.svg\" alt=\"Open In Colab\"/></a>"
      ]
    },
    {
      "cell_type": "code",
      "execution_count": null,
      "id": "ae1bf551",
      "metadata": {
        "id": "ae1bf551",
        "outputId": "ec8db39d-097e-49c7-da05-e1d94107c0de"
      },
      "outputs": [
        {
          "name": "stdout",
          "output_type": "stream",
          "text": [
            "Collecting pandas\n",
            "  Using cached pandas-1.5.0-cp310-cp310-win_amd64.whl (10.4 MB)\n",
            "Collecting numpy>=1.21.0\n",
            "  Using cached numpy-1.23.3-cp310-cp310-win_amd64.whl (14.6 MB)\n",
            "Collecting pytz>=2020.1\n",
            "  Downloading pytz-2022.4-py2.py3-none-any.whl (500 kB)\n",
            "     -------------------------------------- 500.8/500.8 kB 3.5 MB/s eta 0:00:00\n",
            "Requirement already satisfied: python-dateutil>=2.8.1 in c:\\users\\sruthi\\appdata\\local\\programs\\python\\python310\\lib\\site-packages (from pandas) (2.8.2)\n",
            "Requirement already satisfied: six>=1.5 in c:\\users\\sruthi\\appdata\\local\\programs\\python\\python310\\lib\\site-packages (from python-dateutil>=2.8.1->pandas) (1.16.0)\n",
            "Installing collected packages: pytz, numpy, pandas\n",
            "Successfully installed numpy-1.23.3 pandas-1.5.0 pytz-2022.4\n"
          ]
        }
      ],
      "source": [
        "!pip install pandas"
      ]
    },
    {
      "cell_type": "code",
      "execution_count": null,
      "id": "cf58cf03",
      "metadata": {
        "id": "cf58cf03"
      },
      "outputs": [],
      "source": [
        "import pandas as pd"
      ]
    },
    {
      "cell_type": "code",
      "execution_count": null,
      "id": "70b949c1",
      "metadata": {
        "id": "70b949c1",
        "outputId": "45205a8d-f761-455f-e000-20f416419db0"
      },
      "outputs": [
        {
          "name": "stdout",
          "output_type": "stream",
          "text": [
            "Collecting nltk\n",
            "  Downloading nltk-3.7-py3-none-any.whl (1.5 MB)\n",
            "     ---------------------------------------- 1.5/1.5 MB 4.5 MB/s eta 0:00:00\n",
            "Collecting regex>=2021.8.3\n",
            "  Downloading regex-2022.9.13-cp310-cp310-win_amd64.whl (267 kB)\n",
            "     -------------------------------------- 267.7/267.7 kB 4.1 MB/s eta 0:00:00\n",
            "Collecting click\n",
            "  Downloading click-8.1.3-py3-none-any.whl (96 kB)\n",
            "     ---------------------------------------- 96.6/96.6 kB 5.4 MB/s eta 0:00:00\n",
            "Collecting joblib\n",
            "  Downloading joblib-1.2.0-py3-none-any.whl (297 kB)\n",
            "     -------------------------------------- 298.0/298.0 kB 4.6 MB/s eta 0:00:00\n",
            "Collecting tqdm\n",
            "  Downloading tqdm-4.64.1-py2.py3-none-any.whl (78 kB)\n",
            "     ---------------------------------------- 78.5/78.5 kB 2.1 MB/s eta 0:00:00\n",
            "Requirement already satisfied: colorama in c:\\users\\sruthi\\appdata\\local\\programs\\python\\python310\\lib\\site-packages (from click->nltk) (0.4.5)\n",
            "Installing collected packages: tqdm, regex, joblib, click, nltk\n",
            "Successfully installed click-8.1.3 joblib-1.2.0 nltk-3.7 regex-2022.9.13 tqdm-4.64.1\n"
          ]
        }
      ],
      "source": [
        "!pip install nltk"
      ]
    },
    {
      "cell_type": "code",
      "execution_count": null,
      "id": "22f770d5",
      "metadata": {
        "id": "22f770d5"
      },
      "outputs": [],
      "source": [
        "import nltk"
      ]
    },
    {
      "cell_type": "code",
      "execution_count": null,
      "id": "dda7e75b",
      "metadata": {
        "id": "dda7e75b",
        "outputId": "bd8cbef2-7fa0-419d-cb78-03bc90226a30"
      },
      "outputs": [
        {
          "name": "stderr",
          "output_type": "stream",
          "text": [
            "[nltk_data] Downloading package punkt to\n",
            "[nltk_data]     C:\\Users\\sruthi\\AppData\\Roaming\\nltk_data...\n",
            "[nltk_data]   Unzipping tokenizers\\punkt.zip.\n"
          ]
        },
        {
          "data": {
            "text/plain": [
              "True"
            ]
          },
          "execution_count": 24,
          "metadata": {},
          "output_type": "execute_result"
        }
      ],
      "source": [
        "nltk.download('punkt')"
      ]
    },
    {
      "cell_type": "code",
      "execution_count": null,
      "id": "33a67ce6",
      "metadata": {
        "id": "33a67ce6",
        "outputId": "6220a53b-8373-429e-9ffa-1d065ece729a"
      },
      "outputs": [
        {
          "name": "stderr",
          "output_type": "stream",
          "text": [
            "C:\\Users\\sruthi\\AppData\\Local\\Temp\\ipykernel_16304\\1562345201.py:1: FutureWarning: The error_bad_lines argument has been deprecated and will be removed in a future version. Use on_bad_lines in the future.\n",
            "\n",
            "\n",
            "  fake=pd.read_csv('Fake.csv',error_bad_lines=False, engine=\"python\")\n",
            "Skipping line 8478: unexpected end of data\n"
          ]
        }
      ],
      "source": [
        "fake=pd.read_csv('Fake.csv',error_bad_lines=False, engine=\"python\")\n",
        "genuine=pd.read_csv('True.csv')"
      ]
    },
    {
      "cell_type": "code",
      "execution_count": null,
      "id": "c1f456f1",
      "metadata": {
        "id": "c1f456f1"
      },
      "outputs": [],
      "source": [
        "fake['genuiness']=0\n",
        "genuine['genuiness']=1"
      ]
    },
    {
      "cell_type": "code",
      "execution_count": null,
      "id": "f05ddbe0",
      "metadata": {
        "id": "f05ddbe0",
        "outputId": "a38212f7-3528-4807-995e-9f271c57a100"
      },
      "outputs": [
        {
          "data": {
            "text/html": [
              "<div>\n",
              "<style scoped>\n",
              "    .dataframe tbody tr th:only-of-type {\n",
              "        vertical-align: middle;\n",
              "    }\n",
              "\n",
              "    .dataframe tbody tr th {\n",
              "        vertical-align: top;\n",
              "    }\n",
              "\n",
              "    .dataframe thead th {\n",
              "        text-align: right;\n",
              "    }\n",
              "</style>\n",
              "<table border=\"1\" class=\"dataframe\">\n",
              "  <thead>\n",
              "    <tr style=\"text-align: right;\">\n",
              "      <th></th>\n",
              "      <th>title</th>\n",
              "      <th>text</th>\n",
              "      <th>subject</th>\n",
              "      <th>date</th>\n",
              "      <th>genuiness</th>\n",
              "    </tr>\n",
              "  </thead>\n",
              "  <tbody>\n",
              "    <tr>\n",
              "      <th>0</th>\n",
              "      <td>As U.S. budget fight looms, Republicans flip t...</td>\n",
              "      <td>WASHINGTON (Reuters) - The head of a conservat...</td>\n",
              "      <td>politicsNews</td>\n",
              "      <td>December 31, 2017</td>\n",
              "      <td>1</td>\n",
              "    </tr>\n",
              "    <tr>\n",
              "      <th>1</th>\n",
              "      <td>U.S. military to accept transgender recruits o...</td>\n",
              "      <td>WASHINGTON (Reuters) - Transgender people will...</td>\n",
              "      <td>politicsNews</td>\n",
              "      <td>December 29, 2017</td>\n",
              "      <td>1</td>\n",
              "    </tr>\n",
              "    <tr>\n",
              "      <th>2</th>\n",
              "      <td>Senior U.S. Republican senator: 'Let Mr. Muell...</td>\n",
              "      <td>WASHINGTON (Reuters) - The special counsel inv...</td>\n",
              "      <td>politicsNews</td>\n",
              "      <td>December 31, 2017</td>\n",
              "      <td>1</td>\n",
              "    </tr>\n",
              "    <tr>\n",
              "      <th>3</th>\n",
              "      <td>FBI Russia probe helped by Australian diplomat...</td>\n",
              "      <td>WASHINGTON (Reuters) - Trump campaign adviser ...</td>\n",
              "      <td>politicsNews</td>\n",
              "      <td>December 30, 2017</td>\n",
              "      <td>1</td>\n",
              "    </tr>\n",
              "    <tr>\n",
              "      <th>4</th>\n",
              "      <td>Trump wants Postal Service to charge 'much mor...</td>\n",
              "      <td>SEATTLE/WASHINGTON (Reuters) - President Donal...</td>\n",
              "      <td>politicsNews</td>\n",
              "      <td>December 29, 2017</td>\n",
              "      <td>1</td>\n",
              "    </tr>\n",
              "    <tr>\n",
              "      <th>...</th>\n",
              "      <td>...</td>\n",
              "      <td>...</td>\n",
              "      <td>...</td>\n",
              "      <td>...</td>\n",
              "      <td>...</td>\n",
              "    </tr>\n",
              "    <tr>\n",
              "      <th>21412</th>\n",
              "      <td>'Fully committed' NATO backs new U.S. approach...</td>\n",
              "      <td>BRUSSELS (Reuters) - NATO allies on Tuesday we...</td>\n",
              "      <td>worldnews</td>\n",
              "      <td>August 22, 2017</td>\n",
              "      <td>1</td>\n",
              "    </tr>\n",
              "    <tr>\n",
              "      <th>21413</th>\n",
              "      <td>LexisNexis withdrew two products from Chinese ...</td>\n",
              "      <td>LONDON (Reuters) - LexisNexis, a provider of l...</td>\n",
              "      <td>worldnews</td>\n",
              "      <td>August 22, 2017</td>\n",
              "      <td>1</td>\n",
              "    </tr>\n",
              "    <tr>\n",
              "      <th>21414</th>\n",
              "      <td>Minsk cultural hub becomes haven from authorities</td>\n",
              "      <td>MINSK (Reuters) - In the shadow of disused Sov...</td>\n",
              "      <td>worldnews</td>\n",
              "      <td>August 22, 2017</td>\n",
              "      <td>1</td>\n",
              "    </tr>\n",
              "    <tr>\n",
              "      <th>21415</th>\n",
              "      <td>Vatican upbeat on possibility of Pope Francis ...</td>\n",
              "      <td>MOSCOW (Reuters) - Vatican Secretary of State ...</td>\n",
              "      <td>worldnews</td>\n",
              "      <td>August 22, 2017</td>\n",
              "      <td>1</td>\n",
              "    </tr>\n",
              "    <tr>\n",
              "      <th>21416</th>\n",
              "      <td>Indonesia to buy $1.14 billion worth of Russia...</td>\n",
              "      <td>JAKARTA (Reuters) - Indonesia will buy 11 Sukh...</td>\n",
              "      <td>worldnews</td>\n",
              "      <td>August 22, 2017</td>\n",
              "      <td>1</td>\n",
              "    </tr>\n",
              "  </tbody>\n",
              "</table>\n",
              "<p>21417 rows × 5 columns</p>\n",
              "</div>"
            ],
            "text/plain": [
              "                                                   title  \\\n",
              "0      As U.S. budget fight looms, Republicans flip t...   \n",
              "1      U.S. military to accept transgender recruits o...   \n",
              "2      Senior U.S. Republican senator: 'Let Mr. Muell...   \n",
              "3      FBI Russia probe helped by Australian diplomat...   \n",
              "4      Trump wants Postal Service to charge 'much mor...   \n",
              "...                                                  ...   \n",
              "21412  'Fully committed' NATO backs new U.S. approach...   \n",
              "21413  LexisNexis withdrew two products from Chinese ...   \n",
              "21414  Minsk cultural hub becomes haven from authorities   \n",
              "21415  Vatican upbeat on possibility of Pope Francis ...   \n",
              "21416  Indonesia to buy $1.14 billion worth of Russia...   \n",
              "\n",
              "                                                    text       subject  \\\n",
              "0      WASHINGTON (Reuters) - The head of a conservat...  politicsNews   \n",
              "1      WASHINGTON (Reuters) - Transgender people will...  politicsNews   \n",
              "2      WASHINGTON (Reuters) - The special counsel inv...  politicsNews   \n",
              "3      WASHINGTON (Reuters) - Trump campaign adviser ...  politicsNews   \n",
              "4      SEATTLE/WASHINGTON (Reuters) - President Donal...  politicsNews   \n",
              "...                                                  ...           ...   \n",
              "21412  BRUSSELS (Reuters) - NATO allies on Tuesday we...     worldnews   \n",
              "21413  LONDON (Reuters) - LexisNexis, a provider of l...     worldnews   \n",
              "21414  MINSK (Reuters) - In the shadow of disused Sov...     worldnews   \n",
              "21415  MOSCOW (Reuters) - Vatican Secretary of State ...     worldnews   \n",
              "21416  JAKARTA (Reuters) - Indonesia will buy 11 Sukh...     worldnews   \n",
              "\n",
              "                     date  genuiness  \n",
              "0      December 31, 2017           1  \n",
              "1      December 29, 2017           1  \n",
              "2      December 31, 2017           1  \n",
              "3      December 30, 2017           1  \n",
              "4      December 29, 2017           1  \n",
              "...                   ...        ...  \n",
              "21412    August 22, 2017           1  \n",
              "21413    August 22, 2017           1  \n",
              "21414    August 22, 2017           1  \n",
              "21415    August 22, 2017           1  \n",
              "21416    August 22, 2017           1  \n",
              "\n",
              "[21417 rows x 5 columns]"
            ]
          },
          "execution_count": 51,
          "metadata": {},
          "output_type": "execute_result"
        }
      ],
      "source": [
        "genuine"
      ]
    },
    {
      "cell_type": "code",
      "execution_count": null,
      "id": "2afbc8e9",
      "metadata": {
        "id": "2afbc8e9"
      },
      "outputs": [],
      "source": [
        "dataset=pd.concat([fake,genuine])"
      ]
    },
    {
      "cell_type": "code",
      "execution_count": null,
      "id": "7203a76c",
      "metadata": {
        "id": "7203a76c",
        "outputId": "9ac0e5a4-b764-424b-a3df-ed461a9af091"
      },
      "outputs": [
        {
          "data": {
            "text/html": [
              "<div>\n",
              "<style scoped>\n",
              "    .dataframe tbody tr th:only-of-type {\n",
              "        vertical-align: middle;\n",
              "    }\n",
              "\n",
              "    .dataframe tbody tr th {\n",
              "        vertical-align: top;\n",
              "    }\n",
              "\n",
              "    .dataframe thead th {\n",
              "        text-align: right;\n",
              "    }\n",
              "</style>\n",
              "<table border=\"1\" class=\"dataframe\">\n",
              "  <thead>\n",
              "    <tr style=\"text-align: right;\">\n",
              "      <th></th>\n",
              "      <th>title</th>\n",
              "      <th>text</th>\n",
              "      <th>subject</th>\n",
              "      <th>date</th>\n",
              "      <th>genuiness</th>\n",
              "    </tr>\n",
              "  </thead>\n",
              "  <tbody>\n",
              "    <tr>\n",
              "      <th>0</th>\n",
              "      <td>Donald Trump Sends Out Embarrassing New Year’...</td>\n",
              "      <td>Donald Trump just couldn t wish all Americans ...</td>\n",
              "      <td>News</td>\n",
              "      <td>December 31, 2017</td>\n",
              "      <td>0</td>\n",
              "    </tr>\n",
              "    <tr>\n",
              "      <th>1</th>\n",
              "      <td>Drunk Bragging Trump Staffer Started Russian ...</td>\n",
              "      <td>House Intelligence Committee Chairman Devin Nu...</td>\n",
              "      <td>News</td>\n",
              "      <td>December 31, 2017</td>\n",
              "      <td>0</td>\n",
              "    </tr>\n",
              "    <tr>\n",
              "      <th>2</th>\n",
              "      <td>Sheriff David Clarke Becomes An Internet Joke...</td>\n",
              "      <td>On Friday, it was revealed that former Milwauk...</td>\n",
              "      <td>News</td>\n",
              "      <td>December 30, 2017</td>\n",
              "      <td>0</td>\n",
              "    </tr>\n",
              "    <tr>\n",
              "      <th>3</th>\n",
              "      <td>Trump Is So Obsessed He Even Has Obama’s Name...</td>\n",
              "      <td>On Christmas day, Donald Trump announced that ...</td>\n",
              "      <td>News</td>\n",
              "      <td>December 29, 2017</td>\n",
              "      <td>0</td>\n",
              "    </tr>\n",
              "    <tr>\n",
              "      <th>4</th>\n",
              "      <td>Pope Francis Just Called Out Donald Trump Dur...</td>\n",
              "      <td>Pope Francis used his annual Christmas Day mes...</td>\n",
              "      <td>News</td>\n",
              "      <td>December 25, 2017</td>\n",
              "      <td>0</td>\n",
              "    </tr>\n",
              "    <tr>\n",
              "      <th>...</th>\n",
              "      <td>...</td>\n",
              "      <td>...</td>\n",
              "      <td>...</td>\n",
              "      <td>...</td>\n",
              "      <td>...</td>\n",
              "    </tr>\n",
              "    <tr>\n",
              "      <th>21412</th>\n",
              "      <td>'Fully committed' NATO backs new U.S. approach...</td>\n",
              "      <td>BRUSSELS (Reuters) - NATO allies on Tuesday we...</td>\n",
              "      <td>worldnews</td>\n",
              "      <td>August 22, 2017</td>\n",
              "      <td>1</td>\n",
              "    </tr>\n",
              "    <tr>\n",
              "      <th>21413</th>\n",
              "      <td>LexisNexis withdrew two products from Chinese ...</td>\n",
              "      <td>LONDON (Reuters) - LexisNexis, a provider of l...</td>\n",
              "      <td>worldnews</td>\n",
              "      <td>August 22, 2017</td>\n",
              "      <td>1</td>\n",
              "    </tr>\n",
              "    <tr>\n",
              "      <th>21414</th>\n",
              "      <td>Minsk cultural hub becomes haven from authorities</td>\n",
              "      <td>MINSK (Reuters) - In the shadow of disused Sov...</td>\n",
              "      <td>worldnews</td>\n",
              "      <td>August 22, 2017</td>\n",
              "      <td>1</td>\n",
              "    </tr>\n",
              "    <tr>\n",
              "      <th>21415</th>\n",
              "      <td>Vatican upbeat on possibility of Pope Francis ...</td>\n",
              "      <td>MOSCOW (Reuters) - Vatican Secretary of State ...</td>\n",
              "      <td>worldnews</td>\n",
              "      <td>August 22, 2017</td>\n",
              "      <td>1</td>\n",
              "    </tr>\n",
              "    <tr>\n",
              "      <th>21416</th>\n",
              "      <td>Indonesia to buy $1.14 billion worth of Russia...</td>\n",
              "      <td>JAKARTA (Reuters) - Indonesia will buy 11 Sukh...</td>\n",
              "      <td>worldnews</td>\n",
              "      <td>August 22, 2017</td>\n",
              "      <td>1</td>\n",
              "    </tr>\n",
              "  </tbody>\n",
              "</table>\n",
              "<p>29893 rows × 5 columns</p>\n",
              "</div>"
            ],
            "text/plain": [
              "                                                   title  \\\n",
              "0       Donald Trump Sends Out Embarrassing New Year’...   \n",
              "1       Drunk Bragging Trump Staffer Started Russian ...   \n",
              "2       Sheriff David Clarke Becomes An Internet Joke...   \n",
              "3       Trump Is So Obsessed He Even Has Obama’s Name...   \n",
              "4       Pope Francis Just Called Out Donald Trump Dur...   \n",
              "...                                                  ...   \n",
              "21412  'Fully committed' NATO backs new U.S. approach...   \n",
              "21413  LexisNexis withdrew two products from Chinese ...   \n",
              "21414  Minsk cultural hub becomes haven from authorities   \n",
              "21415  Vatican upbeat on possibility of Pope Francis ...   \n",
              "21416  Indonesia to buy $1.14 billion worth of Russia...   \n",
              "\n",
              "                                                    text    subject  \\\n",
              "0      Donald Trump just couldn t wish all Americans ...       News   \n",
              "1      House Intelligence Committee Chairman Devin Nu...       News   \n",
              "2      On Friday, it was revealed that former Milwauk...       News   \n",
              "3      On Christmas day, Donald Trump announced that ...       News   \n",
              "4      Pope Francis used his annual Christmas Day mes...       News   \n",
              "...                                                  ...        ...   \n",
              "21412  BRUSSELS (Reuters) - NATO allies on Tuesday we...  worldnews   \n",
              "21413  LONDON (Reuters) - LexisNexis, a provider of l...  worldnews   \n",
              "21414  MINSK (Reuters) - In the shadow of disused Sov...  worldnews   \n",
              "21415  MOSCOW (Reuters) - Vatican Secretary of State ...  worldnews   \n",
              "21416  JAKARTA (Reuters) - Indonesia will buy 11 Sukh...  worldnews   \n",
              "\n",
              "                    date  genuiness  \n",
              "0      December 31, 2017          0  \n",
              "1      December 31, 2017          0  \n",
              "2      December 30, 2017          0  \n",
              "3      December 29, 2017          0  \n",
              "4      December 25, 2017          0  \n",
              "...                  ...        ...  \n",
              "21412   August 22, 2017           1  \n",
              "21413   August 22, 2017           1  \n",
              "21414   August 22, 2017           1  \n",
              "21415   August 22, 2017           1  \n",
              "21416   August 22, 2017           1  \n",
              "\n",
              "[29893 rows x 5 columns]"
            ]
          },
          "execution_count": 53,
          "metadata": {},
          "output_type": "execute_result"
        }
      ],
      "source": [
        "dataset"
      ]
    },
    {
      "cell_type": "markdown",
      "id": "124f9cd1",
      "metadata": {
        "id": "124f9cd1"
      },
      "source": [
        "# Pre Processing"
      ]
    },
    {
      "cell_type": "code",
      "execution_count": null,
      "id": "fbd71b0b",
      "metadata": {
        "id": "fbd71b0b"
      },
      "outputs": [],
      "source": [
        "dataset=dataset.reset_index(drop=True)"
      ]
    },
    {
      "cell_type": "code",
      "execution_count": null,
      "id": "21fc2228",
      "metadata": {
        "id": "21fc2228"
      },
      "outputs": [],
      "source": [
        "dataset=dataset.drop(['date','title','subject'],axis=1)"
      ]
    },
    {
      "cell_type": "code",
      "execution_count": null,
      "id": "e636885b",
      "metadata": {
        "id": "e636885b",
        "outputId": "9228e7d7-fb90-4790-84a8-9c9285fceb8c"
      },
      "outputs": [
        {
          "data": {
            "text/html": [
              "<div>\n",
              "<style scoped>\n",
              "    .dataframe tbody tr th:only-of-type {\n",
              "        vertical-align: middle;\n",
              "    }\n",
              "\n",
              "    .dataframe tbody tr th {\n",
              "        vertical-align: top;\n",
              "    }\n",
              "\n",
              "    .dataframe thead th {\n",
              "        text-align: right;\n",
              "    }\n",
              "</style>\n",
              "<table border=\"1\" class=\"dataframe\">\n",
              "  <thead>\n",
              "    <tr style=\"text-align: right;\">\n",
              "      <th></th>\n",
              "      <th>text</th>\n",
              "      <th>genuiness</th>\n",
              "    </tr>\n",
              "  </thead>\n",
              "  <tbody>\n",
              "    <tr>\n",
              "      <th>0</th>\n",
              "      <td>Donald Trump just couldn t wish all Americans ...</td>\n",
              "      <td>0</td>\n",
              "    </tr>\n",
              "    <tr>\n",
              "      <th>1</th>\n",
              "      <td>House Intelligence Committee Chairman Devin Nu...</td>\n",
              "      <td>0</td>\n",
              "    </tr>\n",
              "    <tr>\n",
              "      <th>2</th>\n",
              "      <td>On Friday, it was revealed that former Milwauk...</td>\n",
              "      <td>0</td>\n",
              "    </tr>\n",
              "    <tr>\n",
              "      <th>3</th>\n",
              "      <td>On Christmas day, Donald Trump announced that ...</td>\n",
              "      <td>0</td>\n",
              "    </tr>\n",
              "    <tr>\n",
              "      <th>4</th>\n",
              "      <td>Pope Francis used his annual Christmas Day mes...</td>\n",
              "      <td>0</td>\n",
              "    </tr>\n",
              "    <tr>\n",
              "      <th>...</th>\n",
              "      <td>...</td>\n",
              "      <td>...</td>\n",
              "    </tr>\n",
              "    <tr>\n",
              "      <th>29888</th>\n",
              "      <td>BRUSSELS (Reuters) - NATO allies on Tuesday we...</td>\n",
              "      <td>1</td>\n",
              "    </tr>\n",
              "    <tr>\n",
              "      <th>29889</th>\n",
              "      <td>LONDON (Reuters) - LexisNexis, a provider of l...</td>\n",
              "      <td>1</td>\n",
              "    </tr>\n",
              "    <tr>\n",
              "      <th>29890</th>\n",
              "      <td>MINSK (Reuters) - In the shadow of disused Sov...</td>\n",
              "      <td>1</td>\n",
              "    </tr>\n",
              "    <tr>\n",
              "      <th>29891</th>\n",
              "      <td>MOSCOW (Reuters) - Vatican Secretary of State ...</td>\n",
              "      <td>1</td>\n",
              "    </tr>\n",
              "    <tr>\n",
              "      <th>29892</th>\n",
              "      <td>JAKARTA (Reuters) - Indonesia will buy 11 Sukh...</td>\n",
              "      <td>1</td>\n",
              "    </tr>\n",
              "  </tbody>\n",
              "</table>\n",
              "<p>29893 rows × 2 columns</p>\n",
              "</div>"
            ],
            "text/plain": [
              "                                                    text  genuiness\n",
              "0      Donald Trump just couldn t wish all Americans ...          0\n",
              "1      House Intelligence Committee Chairman Devin Nu...          0\n",
              "2      On Friday, it was revealed that former Milwauk...          0\n",
              "3      On Christmas day, Donald Trump announced that ...          0\n",
              "4      Pope Francis used his annual Christmas Day mes...          0\n",
              "...                                                  ...        ...\n",
              "29888  BRUSSELS (Reuters) - NATO allies on Tuesday we...          1\n",
              "29889  LONDON (Reuters) - LexisNexis, a provider of l...          1\n",
              "29890  MINSK (Reuters) - In the shadow of disused Sov...          1\n",
              "29891  MOSCOW (Reuters) - Vatican Secretary of State ...          1\n",
              "29892  JAKARTA (Reuters) - Indonesia will buy 11 Sukh...          1\n",
              "\n",
              "[29893 rows x 2 columns]"
            ]
          },
          "execution_count": 62,
          "metadata": {},
          "output_type": "execute_result"
        }
      ],
      "source": [
        "dataset"
      ]
    },
    {
      "cell_type": "code",
      "execution_count": null,
      "id": "07c3b103",
      "metadata": {
        "id": "07c3b103"
      },
      "outputs": [],
      "source": [
        "from nltk.tokenize import word_tokenize\n",
        "dataset['text']=dataset['text'].apply(word_tokenize)"
      ]
    },
    {
      "cell_type": "code",
      "execution_count": null,
      "id": "f2b48353",
      "metadata": {
        "id": "f2b48353",
        "outputId": "529f68ee-33f6-4440-bea0-39f2098049b0"
      },
      "outputs": [
        {
          "data": {
            "text/html": [
              "<div>\n",
              "<style scoped>\n",
              "    .dataframe tbody tr th:only-of-type {\n",
              "        vertical-align: middle;\n",
              "    }\n",
              "\n",
              "    .dataframe tbody tr th {\n",
              "        vertical-align: top;\n",
              "    }\n",
              "\n",
              "    .dataframe thead th {\n",
              "        text-align: right;\n",
              "    }\n",
              "</style>\n",
              "<table border=\"1\" class=\"dataframe\">\n",
              "  <thead>\n",
              "    <tr style=\"text-align: right;\">\n",
              "      <th></th>\n",
              "      <th>text</th>\n",
              "      <th>genuiness</th>\n",
              "    </tr>\n",
              "  </thead>\n",
              "  <tbody>\n",
              "    <tr>\n",
              "      <th>0</th>\n",
              "      <td>[Donald, Trump, just, couldn, t, wish, all, Am...</td>\n",
              "      <td>0</td>\n",
              "    </tr>\n",
              "    <tr>\n",
              "      <th>1</th>\n",
              "      <td>[House, Intelligence, Committee, Chairman, Dev...</td>\n",
              "      <td>0</td>\n",
              "    </tr>\n",
              "    <tr>\n",
              "      <th>2</th>\n",
              "      <td>[On, Friday, ,, it, was, revealed, that, forme...</td>\n",
              "      <td>0</td>\n",
              "    </tr>\n",
              "    <tr>\n",
              "      <th>3</th>\n",
              "      <td>[On, Christmas, day, ,, Donald, Trump, announc...</td>\n",
              "      <td>0</td>\n",
              "    </tr>\n",
              "    <tr>\n",
              "      <th>4</th>\n",
              "      <td>[Pope, Francis, used, his, annual, Christmas, ...</td>\n",
              "      <td>0</td>\n",
              "    </tr>\n",
              "    <tr>\n",
              "      <th>...</th>\n",
              "      <td>...</td>\n",
              "      <td>...</td>\n",
              "    </tr>\n",
              "    <tr>\n",
              "      <th>29888</th>\n",
              "      <td>[BRUSSELS, (, Reuters, ), -, NATO, allies, on,...</td>\n",
              "      <td>1</td>\n",
              "    </tr>\n",
              "    <tr>\n",
              "      <th>29889</th>\n",
              "      <td>[LONDON, (, Reuters, ), -, LexisNexis, ,, a, p...</td>\n",
              "      <td>1</td>\n",
              "    </tr>\n",
              "    <tr>\n",
              "      <th>29890</th>\n",
              "      <td>[MINSK, (, Reuters, ), -, In, the, shadow, of,...</td>\n",
              "      <td>1</td>\n",
              "    </tr>\n",
              "    <tr>\n",
              "      <th>29891</th>\n",
              "      <td>[MOSCOW, (, Reuters, ), -, Vatican, Secretary,...</td>\n",
              "      <td>1</td>\n",
              "    </tr>\n",
              "    <tr>\n",
              "      <th>29892</th>\n",
              "      <td>[JAKARTA, (, Reuters, ), -, Indonesia, will, b...</td>\n",
              "      <td>1</td>\n",
              "    </tr>\n",
              "  </tbody>\n",
              "</table>\n",
              "<p>29893 rows × 2 columns</p>\n",
              "</div>"
            ],
            "text/plain": [
              "                                                    text  genuiness\n",
              "0      [Donald, Trump, just, couldn, t, wish, all, Am...          0\n",
              "1      [House, Intelligence, Committee, Chairman, Dev...          0\n",
              "2      [On, Friday, ,, it, was, revealed, that, forme...          0\n",
              "3      [On, Christmas, day, ,, Donald, Trump, announc...          0\n",
              "4      [Pope, Francis, used, his, annual, Christmas, ...          0\n",
              "...                                                  ...        ...\n",
              "29888  [BRUSSELS, (, Reuters, ), -, NATO, allies, on,...          1\n",
              "29889  [LONDON, (, Reuters, ), -, LexisNexis, ,, a, p...          1\n",
              "29890  [MINSK, (, Reuters, ), -, In, the, shadow, of,...          1\n",
              "29891  [MOSCOW, (, Reuters, ), -, Vatican, Secretary,...          1\n",
              "29892  [JAKARTA, (, Reuters, ), -, Indonesia, will, b...          1\n",
              "\n",
              "[29893 rows x 2 columns]"
            ]
          },
          "execution_count": 65,
          "metadata": {},
          "output_type": "execute_result"
        }
      ],
      "source": [
        "dataset"
      ]
    },
    {
      "cell_type": "code",
      "execution_count": null,
      "id": "b24bbfc0",
      "metadata": {
        "id": "b24bbfc0"
      },
      "outputs": [],
      "source": [
        "from nltk.stem.snowball import SnowballStemmer"
      ]
    },
    {
      "cell_type": "code",
      "execution_count": null,
      "id": "c4c4c7f0",
      "metadata": {
        "id": "c4c4c7f0"
      },
      "outputs": [],
      "source": [
        "sb=SnowballStemmer('english')"
      ]
    },
    {
      "cell_type": "code",
      "execution_count": null,
      "id": "9b42c5ea",
      "metadata": {
        "id": "9b42c5ea"
      },
      "outputs": [],
      "source": [
        "def stem_it(text):\n",
        "    return [sb.stem(word) for word in text]"
      ]
    },
    {
      "cell_type": "code",
      "execution_count": null,
      "id": "565ea15a",
      "metadata": {
        "id": "565ea15a"
      },
      "outputs": [],
      "source": [
        "dataset['text']=dataset['text'].apply(stem_it)"
      ]
    },
    {
      "cell_type": "code",
      "execution_count": null,
      "id": "0c3bf896",
      "metadata": {
        "id": "0c3bf896",
        "outputId": "f055db1c-3ac1-4b12-d538-f097f8155339"
      },
      "outputs": [
        {
          "data": {
            "text/html": [
              "<div>\n",
              "<style scoped>\n",
              "    .dataframe tbody tr th:only-of-type {\n",
              "        vertical-align: middle;\n",
              "    }\n",
              "\n",
              "    .dataframe tbody tr th {\n",
              "        vertical-align: top;\n",
              "    }\n",
              "\n",
              "    .dataframe thead th {\n",
              "        text-align: right;\n",
              "    }\n",
              "</style>\n",
              "<table border=\"1\" class=\"dataframe\">\n",
              "  <thead>\n",
              "    <tr style=\"text-align: right;\">\n",
              "      <th></th>\n",
              "      <th>text</th>\n",
              "      <th>genuiness</th>\n",
              "    </tr>\n",
              "  </thead>\n",
              "  <tbody>\n",
              "    <tr>\n",
              "      <th>0</th>\n",
              "      <td>[donald, trump, just, couldn, t, wish, all, am...</td>\n",
              "      <td>0</td>\n",
              "    </tr>\n",
              "    <tr>\n",
              "      <th>1</th>\n",
              "      <td>[hous, intellig, committe, chairman, devin, nu...</td>\n",
              "      <td>0</td>\n",
              "    </tr>\n",
              "    <tr>\n",
              "      <th>2</th>\n",
              "      <td>[on, friday, ,, it, was, reveal, that, former,...</td>\n",
              "      <td>0</td>\n",
              "    </tr>\n",
              "    <tr>\n",
              "      <th>3</th>\n",
              "      <td>[on, christma, day, ,, donald, trump, announc,...</td>\n",
              "      <td>0</td>\n",
              "    </tr>\n",
              "    <tr>\n",
              "      <th>4</th>\n",
              "      <td>[pope, franci, use, his, annual, christma, day...</td>\n",
              "      <td>0</td>\n",
              "    </tr>\n",
              "    <tr>\n",
              "      <th>...</th>\n",
              "      <td>...</td>\n",
              "      <td>...</td>\n",
              "    </tr>\n",
              "    <tr>\n",
              "      <th>29888</th>\n",
              "      <td>[brussel, (, reuter, ), -, nato, alli, on, tue...</td>\n",
              "      <td>1</td>\n",
              "    </tr>\n",
              "    <tr>\n",
              "      <th>29889</th>\n",
              "      <td>[london, (, reuter, ), -, lexisnexi, ,, a, pro...</td>\n",
              "      <td>1</td>\n",
              "    </tr>\n",
              "    <tr>\n",
              "      <th>29890</th>\n",
              "      <td>[minsk, (, reuter, ), -, in, the, shadow, of, ...</td>\n",
              "      <td>1</td>\n",
              "    </tr>\n",
              "    <tr>\n",
              "      <th>29891</th>\n",
              "      <td>[moscow, (, reuter, ), -, vatican, secretari, ...</td>\n",
              "      <td>1</td>\n",
              "    </tr>\n",
              "    <tr>\n",
              "      <th>29892</th>\n",
              "      <td>[jakarta, (, reuter, ), -, indonesia, will, bu...</td>\n",
              "      <td>1</td>\n",
              "    </tr>\n",
              "  </tbody>\n",
              "</table>\n",
              "<p>29893 rows × 2 columns</p>\n",
              "</div>"
            ],
            "text/plain": [
              "                                                    text  genuiness\n",
              "0      [donald, trump, just, couldn, t, wish, all, am...          0\n",
              "1      [hous, intellig, committe, chairman, devin, nu...          0\n",
              "2      [on, friday, ,, it, was, reveal, that, former,...          0\n",
              "3      [on, christma, day, ,, donald, trump, announc,...          0\n",
              "4      [pope, franci, use, his, annual, christma, day...          0\n",
              "...                                                  ...        ...\n",
              "29888  [brussel, (, reuter, ), -, nato, alli, on, tue...          1\n",
              "29889  [london, (, reuter, ), -, lexisnexi, ,, a, pro...          1\n",
              "29890  [minsk, (, reuter, ), -, in, the, shadow, of, ...          1\n",
              "29891  [moscow, (, reuter, ), -, vatican, secretari, ...          1\n",
              "29892  [jakarta, (, reuter, ), -, indonesia, will, bu...          1\n",
              "\n",
              "[29893 rows x 2 columns]"
            ]
          },
          "execution_count": 72,
          "metadata": {},
          "output_type": "execute_result"
        }
      ],
      "source": [
        "dataset"
      ]
    },
    {
      "cell_type": "code",
      "execution_count": null,
      "id": "ff32b822",
      "metadata": {
        "id": "ff32b822"
      },
      "outputs": [],
      "source": [
        "def stopward_removal(text):\n",
        "    return [word for word in text if len(word)>>2]"
      ]
    },
    {
      "cell_type": "code",
      "execution_count": null,
      "id": "69277bba",
      "metadata": {
        "id": "69277bba"
      },
      "outputs": [],
      "source": [
        "dataset['text']=dataset['text'].apply(stopward_removal)"
      ]
    },
    {
      "cell_type": "code",
      "execution_count": null,
      "id": "afe0938d",
      "metadata": {
        "id": "afe0938d",
        "outputId": "5097eb48-6a4e-4522-d30c-bb1c6dafebdc"
      },
      "outputs": [
        {
          "data": {
            "text/html": [
              "<div>\n",
              "<style scoped>\n",
              "    .dataframe tbody tr th:only-of-type {\n",
              "        vertical-align: middle;\n",
              "    }\n",
              "\n",
              "    .dataframe tbody tr th {\n",
              "        vertical-align: top;\n",
              "    }\n",
              "\n",
              "    .dataframe thead th {\n",
              "        text-align: right;\n",
              "    }\n",
              "</style>\n",
              "<table border=\"1\" class=\"dataframe\">\n",
              "  <thead>\n",
              "    <tr style=\"text-align: right;\">\n",
              "      <th></th>\n",
              "      <th>text</th>\n",
              "      <th>genuiness</th>\n",
              "    </tr>\n",
              "  </thead>\n",
              "  <tbody>\n",
              "    <tr>\n",
              "      <th>0</th>\n",
              "      <td>[donald, trump, just, couldn, wish, american, ...</td>\n",
              "      <td>0</td>\n",
              "    </tr>\n",
              "    <tr>\n",
              "      <th>1</th>\n",
              "      <td>[hous, intellig, committe, chairman, devin, nu...</td>\n",
              "      <td>0</td>\n",
              "    </tr>\n",
              "    <tr>\n",
              "      <th>2</th>\n",
              "      <td>[friday, reveal, that, former, milwauke, sheri...</td>\n",
              "      <td>0</td>\n",
              "    </tr>\n",
              "    <tr>\n",
              "      <th>3</th>\n",
              "      <td>[christma, donald, trump, announc, that, would...</td>\n",
              "      <td>0</td>\n",
              "    </tr>\n",
              "    <tr>\n",
              "      <th>4</th>\n",
              "      <td>[pope, franci, annual, christma, messag, rebuk...</td>\n",
              "      <td>0</td>\n",
              "    </tr>\n",
              "    <tr>\n",
              "      <th>...</th>\n",
              "      <td>...</td>\n",
              "      <td>...</td>\n",
              "    </tr>\n",
              "    <tr>\n",
              "      <th>29888</th>\n",
              "      <td>[brussel, reuter, nato, alli, tuesday, welcom,...</td>\n",
              "      <td>1</td>\n",
              "    </tr>\n",
              "    <tr>\n",
              "      <th>29889</th>\n",
              "      <td>[london, reuter, lexisnexi, provid, legal, reg...</td>\n",
              "      <td>1</td>\n",
              "    </tr>\n",
              "    <tr>\n",
              "      <th>29890</th>\n",
              "      <td>[minsk, reuter, shadow, disus, soviet-era, fac...</td>\n",
              "      <td>1</td>\n",
              "    </tr>\n",
              "    <tr>\n",
              "      <th>29891</th>\n",
              "      <td>[moscow, reuter, vatican, secretari, state, ca...</td>\n",
              "      <td>1</td>\n",
              "    </tr>\n",
              "    <tr>\n",
              "      <th>29892</th>\n",
              "      <td>[jakarta, reuter, indonesia, will, sukhoi, fig...</td>\n",
              "      <td>1</td>\n",
              "    </tr>\n",
              "  </tbody>\n",
              "</table>\n",
              "<p>29893 rows × 2 columns</p>\n",
              "</div>"
            ],
            "text/plain": [
              "                                                    text  genuiness\n",
              "0      [donald, trump, just, couldn, wish, american, ...          0\n",
              "1      [hous, intellig, committe, chairman, devin, nu...          0\n",
              "2      [friday, reveal, that, former, milwauke, sheri...          0\n",
              "3      [christma, donald, trump, announc, that, would...          0\n",
              "4      [pope, franci, annual, christma, messag, rebuk...          0\n",
              "...                                                  ...        ...\n",
              "29888  [brussel, reuter, nato, alli, tuesday, welcom,...          1\n",
              "29889  [london, reuter, lexisnexi, provid, legal, reg...          1\n",
              "29890  [minsk, reuter, shadow, disus, soviet-era, fac...          1\n",
              "29891  [moscow, reuter, vatican, secretari, state, ca...          1\n",
              "29892  [jakarta, reuter, indonesia, will, sukhoi, fig...          1\n",
              "\n",
              "[29893 rows x 2 columns]"
            ]
          },
          "execution_count": 75,
          "metadata": {},
          "output_type": "execute_result"
        }
      ],
      "source": [
        "dataset"
      ]
    },
    {
      "cell_type": "code",
      "execution_count": null,
      "id": "25f633eb",
      "metadata": {
        "id": "25f633eb",
        "outputId": "1b18d0d5-61ff-427f-f8bf-f25103db673f"
      },
      "outputs": [
        {
          "name": "stdout",
          "output_type": "stream",
          "text": [
            "Collecting sklearn\n",
            "  Downloading sklearn-0.0.tar.gz (1.1 kB)\n",
            "  Preparing metadata (setup.py): started\n",
            "  Preparing metadata (setup.py): finished with status 'done'\n",
            "Collecting scikit-learn\n",
            "  Downloading scikit_learn-1.1.2-cp310-cp310-win_amd64.whl (7.4 MB)\n",
            "     ---------------------------------------- 7.4/7.4 MB 6.5 MB/s eta 0:00:00\n",
            "Requirement already satisfied: joblib>=1.0.0 in c:\\users\\sruthi\\appdata\\local\\programs\\python\\python310\\lib\\site-packages (from scikit-learn->sklearn) (1.2.0)\n",
            "Collecting threadpoolctl>=2.0.0\n",
            "  Downloading threadpoolctl-3.1.0-py3-none-any.whl (14 kB)\n",
            "Collecting scipy>=1.3.2\n",
            "  Downloading scipy-1.9.1-cp310-cp310-win_amd64.whl (38.6 MB)\n",
            "     ---------------------------------------- 38.6/38.6 MB 4.6 MB/s eta 0:00:00\n",
            "Requirement already satisfied: numpy>=1.17.3 in c:\\users\\sruthi\\appdata\\local\\programs\\python\\python310\\lib\\site-packages (from scikit-learn->sklearn) (1.23.3)\n",
            "Using legacy 'setup.py install' for sklearn, since package 'wheel' is not installed.\n",
            "Installing collected packages: threadpoolctl, scipy, scikit-learn, sklearn\n",
            "  Running setup.py install for sklearn: started\n",
            "  Running setup.py install for sklearn: finished with status 'done'\n",
            "Successfully installed scikit-learn-1.1.2 scipy-1.9.1 sklearn-0.0 threadpoolctl-3.1.0\n"
          ]
        }
      ],
      "source": [
        "!pip install sklearn"
      ]
    },
    {
      "cell_type": "code",
      "execution_count": null,
      "id": "a9f53f91",
      "metadata": {
        "id": "a9f53f91"
      },
      "outputs": [],
      "source": [
        "dataset['text']=dataset['text'].apply(' '.join)"
      ]
    },
    {
      "cell_type": "code",
      "execution_count": null,
      "id": "715056ce",
      "metadata": {
        "id": "715056ce",
        "outputId": "5f91b254-e30d-4832-ac86-bbaf761031d5"
      },
      "outputs": [
        {
          "data": {
            "text/html": [
              "<div>\n",
              "<style scoped>\n",
              "    .dataframe tbody tr th:only-of-type {\n",
              "        vertical-align: middle;\n",
              "    }\n",
              "\n",
              "    .dataframe tbody tr th {\n",
              "        vertical-align: top;\n",
              "    }\n",
              "\n",
              "    .dataframe thead th {\n",
              "        text-align: right;\n",
              "    }\n",
              "</style>\n",
              "<table border=\"1\" class=\"dataframe\">\n",
              "  <thead>\n",
              "    <tr style=\"text-align: right;\">\n",
              "      <th></th>\n",
              "      <th>text</th>\n",
              "      <th>genuiness</th>\n",
              "    </tr>\n",
              "  </thead>\n",
              "  <tbody>\n",
              "    <tr>\n",
              "      <th>0</th>\n",
              "      <td>donald trump just couldn wish american happi y...</td>\n",
              "      <td>0</td>\n",
              "    </tr>\n",
              "    <tr>\n",
              "      <th>1</th>\n",
              "      <td>hous intellig committe chairman devin nune hav...</td>\n",
              "      <td>0</td>\n",
              "    </tr>\n",
              "    <tr>\n",
              "      <th>2</th>\n",
              "      <td>friday reveal that former milwauke sheriff dav...</td>\n",
              "      <td>0</td>\n",
              "    </tr>\n",
              "    <tr>\n",
              "      <th>3</th>\n",
              "      <td>christma donald trump announc that would back ...</td>\n",
              "      <td>0</td>\n",
              "    </tr>\n",
              "    <tr>\n",
              "      <th>4</th>\n",
              "      <td>pope franci annual christma messag rebuk donal...</td>\n",
              "      <td>0</td>\n",
              "    </tr>\n",
              "    <tr>\n",
              "      <th>...</th>\n",
              "      <td>...</td>\n",
              "      <td>...</td>\n",
              "    </tr>\n",
              "    <tr>\n",
              "      <th>29888</th>\n",
              "      <td>brussel reuter nato alli tuesday welcom presid...</td>\n",
              "      <td>1</td>\n",
              "    </tr>\n",
              "    <tr>\n",
              "      <th>29889</th>\n",
              "      <td>london reuter lexisnexi provid legal regulator...</td>\n",
              "      <td>1</td>\n",
              "    </tr>\n",
              "    <tr>\n",
              "      <th>29890</th>\n",
              "      <td>minsk reuter shadow disus soviet-era factori m...</td>\n",
              "      <td>1</td>\n",
              "    </tr>\n",
              "    <tr>\n",
              "      <th>29891</th>\n",
              "      <td>moscow reuter vatican secretari state cardin p...</td>\n",
              "      <td>1</td>\n",
              "    </tr>\n",
              "    <tr>\n",
              "      <th>29892</th>\n",
              "      <td>jakarta reuter indonesia will sukhoi fighter w...</td>\n",
              "      <td>1</td>\n",
              "    </tr>\n",
              "  </tbody>\n",
              "</table>\n",
              "<p>29893 rows × 2 columns</p>\n",
              "</div>"
            ],
            "text/plain": [
              "                                                    text  genuiness\n",
              "0      donald trump just couldn wish american happi y...          0\n",
              "1      hous intellig committe chairman devin nune hav...          0\n",
              "2      friday reveal that former milwauke sheriff dav...          0\n",
              "3      christma donald trump announc that would back ...          0\n",
              "4      pope franci annual christma messag rebuk donal...          0\n",
              "...                                                  ...        ...\n",
              "29888  brussel reuter nato alli tuesday welcom presid...          1\n",
              "29889  london reuter lexisnexi provid legal regulator...          1\n",
              "29890  minsk reuter shadow disus soviet-era factori m...          1\n",
              "29891  moscow reuter vatican secretari state cardin p...          1\n",
              "29892  jakarta reuter indonesia will sukhoi fighter w...          1\n",
              "\n",
              "[29893 rows x 2 columns]"
            ]
          },
          "execution_count": 77,
          "metadata": {},
          "output_type": "execute_result"
        }
      ],
      "source": [
        "dataset"
      ]
    },
    {
      "cell_type": "code",
      "execution_count": null,
      "id": "91bafb9e",
      "metadata": {
        "id": "91bafb9e"
      },
      "outputs": [],
      "source": [
        "from sklearn.model_selection import train_test_split\n",
        "x_train,x_test,y_train,y_test=train_test_split(dataset['text'],dataset['genuiness'],test_size=0.25)"
      ]
    },
    {
      "cell_type": "code",
      "execution_count": null,
      "id": "8d1c32a7",
      "metadata": {
        "id": "8d1c32a7",
        "outputId": "7b7b099f-fb68-4a61-8cd2-e3e3bc8054e9"
      },
      "outputs": [
        {
          "data": {
            "text/plain": [
              "19585    wauke iowa reuter presid barack obama prais hi...\n",
              "3859     donald trump actual despit popular vote pretti...\n",
              "1319     donald trump been extrem activ twitter sinc re...\n",
              "2288     there some specif reason have someon white hou...\n",
              "21093    baghdad reuter iraqi militari parad baghdad he...\n",
              "                               ...                        \n",
              "791      saturday donald trump lash washington post pre...\n",
              "29015    berlin reuter germani green saturday rule thre...\n",
              "2762     donald trump fire attorney general salli yate ...\n",
              "3425     donald trump thought could bulli depart energi...\n",
              "449      more than clear that donald trump veri proud h...\n",
              "Name: text, Length: 22419, dtype: object"
            ]
          },
          "execution_count": 82,
          "metadata": {},
          "output_type": "execute_result"
        }
      ],
      "source": [
        "x_train"
      ]
    },
    {
      "cell_type": "code",
      "execution_count": null,
      "id": "a9e3e3d1",
      "metadata": {
        "id": "a9e3e3d1"
      },
      "outputs": [],
      "source": [
        "from sklearn.feature_extraction.text import TfidfVectorizer\n",
        "tfidfv=TfidfVectorizer(max_df=0.7)"
      ]
    },
    {
      "cell_type": "code",
      "execution_count": null,
      "id": "858eda76",
      "metadata": {
        "id": "858eda76"
      },
      "outputs": [],
      "source": [
        "tfidfv_train=tfidfv.fit_transform(x_train)\n",
        "tfidfv_test=tfidfv.transform(x_test)"
      ]
    },
    {
      "cell_type": "code",
      "execution_count": null,
      "id": "45deb509",
      "metadata": {
        "id": "45deb509",
        "outputId": "c6cd21b2-11c2-4c18-d9c0-46cf8276a7e3"
      },
      "outputs": [
        {
          "name": "stdout",
          "output_type": "stream",
          "text": [
            "  (0, 5668)\t0.02184596899844668\n",
            "  (0, 42840)\t0.018612606534583086\n",
            "  (0, 57308)\t0.026317053337014822\n",
            "  (0, 48617)\t0.030635124960401407\n",
            "  (0, 30465)\t0.02440883054460284\n",
            "  (0, 16533)\t0.03304996122867243\n",
            "  (0, 57113)\t0.035247007052774566\n",
            "  (0, 33775)\t0.044490429265252776\n",
            "  (0, 24198)\t0.03208578413391007\n",
            "  (0, 20714)\t0.03570395149051156\n",
            "  (0, 50013)\t0.06703902522999178\n",
            "  (0, 51989)\t0.05928102095749657\n",
            "  (0, 28113)\t0.059660069548417606\n",
            "  (0, 58665)\t0.04049902097469364\n",
            "  (0, 5315)\t0.027981002667807266\n",
            "  (0, 25625)\t0.04981514096318432\n",
            "  (0, 25700)\t0.05763202863386643\n",
            "  (0, 45924)\t0.03765952301767381\n",
            "  (0, 42147)\t0.023282413741830293\n",
            "  (0, 50730)\t0.043822506653723566\n",
            "  (0, 57892)\t0.027099919702097932\n",
            "  (0, 29267)\t0.026524865340193285\n",
            "  (0, 64357)\t0.025402674061123946\n",
            "  (0, 1)\t0.02138727525863966\n",
            "  (0, 3344)\t0.06518185498862922\n",
            "  :\t:\n",
            "  (22418, 61692)\t0.12302726113026818\n",
            "  (22418, 19656)\t0.02586426140234359\n",
            "  (22418, 4993)\t0.07699855368280818\n",
            "  (22418, 66380)\t0.023914792765355155\n",
            "  (22418, 5628)\t0.025708027087088955\n",
            "  (22418, 57751)\t0.0820548748256995\n",
            "  (22418, 29309)\t0.09350232213870435\n",
            "  (22418, 28669)\t0.09908598696882032\n",
            "  (22418, 37664)\t0.036414063311313506\n",
            "  (22418, 49731)\t0.0552660364583898\n",
            "  (22418, 64174)\t0.07942915713683707\n",
            "  (22418, 46618)\t0.027785797311718163\n",
            "  (22418, 60321)\t0.03882880672619184\n",
            "  (22418, 28379)\t0.04509065463897338\n",
            "  (22418, 51745)\t0.10086280928739533\n",
            "  (22418, 60318)\t0.0844369749130728\n",
            "  (22418, 29272)\t0.03207709203336804\n",
            "  (22418, 58263)\t0.07783728107323262\n",
            "  (22418, 14924)\t0.12423879822615708\n",
            "  (22418, 60027)\t0.03020883261301175\n",
            "  (22418, 37914)\t0.06346391214951058\n",
            "  (22418, 60640)\t0.03074865833744872\n",
            "  (22418, 65692)\t0.03461385987399508\n",
            "  (22418, 41139)\t0.027123420388122495\n",
            "  (22418, 48389)\t0.03821131109367353\n"
          ]
        }
      ],
      "source": [
        "print(tfidfv_train)"
      ]
    },
    {
      "cell_type": "code",
      "execution_count": null,
      "id": "5187c977",
      "metadata": {
        "id": "5187c977"
      },
      "outputs": [],
      "source": [
        "from sklearn.linear_model import LogisticRegression\n"
      ]
    },
    {
      "cell_type": "code",
      "execution_count": null,
      "id": "e2295b06",
      "metadata": {
        "id": "e2295b06",
        "outputId": "2aba2f0a-e13a-4d52-b610-735f315d642b"
      },
      "outputs": [
        {
          "data": {
            "text/html": [
              "<style>#sk-container-id-1 {color: black;background-color: white;}#sk-container-id-1 pre{padding: 0;}#sk-container-id-1 div.sk-toggleable {background-color: white;}#sk-container-id-1 label.sk-toggleable__label {cursor: pointer;display: block;width: 100%;margin-bottom: 0;padding: 0.3em;box-sizing: border-box;text-align: center;}#sk-container-id-1 label.sk-toggleable__label-arrow:before {content: \"▸\";float: left;margin-right: 0.25em;color: #696969;}#sk-container-id-1 label.sk-toggleable__label-arrow:hover:before {color: black;}#sk-container-id-1 div.sk-estimator:hover label.sk-toggleable__label-arrow:before {color: black;}#sk-container-id-1 div.sk-toggleable__content {max-height: 0;max-width: 0;overflow: hidden;text-align: left;background-color: #f0f8ff;}#sk-container-id-1 div.sk-toggleable__content pre {margin: 0.2em;color: black;border-radius: 0.25em;background-color: #f0f8ff;}#sk-container-id-1 input.sk-toggleable__control:checked~div.sk-toggleable__content {max-height: 200px;max-width: 100%;overflow: auto;}#sk-container-id-1 input.sk-toggleable__control:checked~label.sk-toggleable__label-arrow:before {content: \"▾\";}#sk-container-id-1 div.sk-estimator input.sk-toggleable__control:checked~label.sk-toggleable__label {background-color: #d4ebff;}#sk-container-id-1 div.sk-label input.sk-toggleable__control:checked~label.sk-toggleable__label {background-color: #d4ebff;}#sk-container-id-1 input.sk-hidden--visually {border: 0;clip: rect(1px 1px 1px 1px);clip: rect(1px, 1px, 1px, 1px);height: 1px;margin: -1px;overflow: hidden;padding: 0;position: absolute;width: 1px;}#sk-container-id-1 div.sk-estimator {font-family: monospace;background-color: #f0f8ff;border: 1px dotted black;border-radius: 0.25em;box-sizing: border-box;margin-bottom: 0.5em;}#sk-container-id-1 div.sk-estimator:hover {background-color: #d4ebff;}#sk-container-id-1 div.sk-parallel-item::after {content: \"\";width: 100%;border-bottom: 1px solid gray;flex-grow: 1;}#sk-container-id-1 div.sk-label:hover label.sk-toggleable__label {background-color: #d4ebff;}#sk-container-id-1 div.sk-serial::before {content: \"\";position: absolute;border-left: 1px solid gray;box-sizing: border-box;top: 0;bottom: 0;left: 50%;z-index: 0;}#sk-container-id-1 div.sk-serial {display: flex;flex-direction: column;align-items: center;background-color: white;padding-right: 0.2em;padding-left: 0.2em;position: relative;}#sk-container-id-1 div.sk-item {position: relative;z-index: 1;}#sk-container-id-1 div.sk-parallel {display: flex;align-items: stretch;justify-content: center;background-color: white;position: relative;}#sk-container-id-1 div.sk-item::before, #sk-container-id-1 div.sk-parallel-item::before {content: \"\";position: absolute;border-left: 1px solid gray;box-sizing: border-box;top: 0;bottom: 0;left: 50%;z-index: -1;}#sk-container-id-1 div.sk-parallel-item {display: flex;flex-direction: column;z-index: 1;position: relative;background-color: white;}#sk-container-id-1 div.sk-parallel-item:first-child::after {align-self: flex-end;width: 50%;}#sk-container-id-1 div.sk-parallel-item:last-child::after {align-self: flex-start;width: 50%;}#sk-container-id-1 div.sk-parallel-item:only-child::after {width: 0;}#sk-container-id-1 div.sk-dashed-wrapped {border: 1px dashed gray;margin: 0 0.4em 0.5em 0.4em;box-sizing: border-box;padding-bottom: 0.4em;background-color: white;}#sk-container-id-1 div.sk-label label {font-family: monospace;font-weight: bold;display: inline-block;line-height: 1.2em;}#sk-container-id-1 div.sk-label-container {text-align: center;}#sk-container-id-1 div.sk-container {/* jupyter's `normalize.less` sets `[hidden] { display: none; }` but bootstrap.min.css set `[hidden] { display: none !important; }` so we also need the `!important` here to be able to override the default hidden behavior on the sphinx rendered scikit-learn.org. See: https://github.com/scikit-learn/scikit-learn/issues/21755 */display: inline-block !important;position: relative;}#sk-container-id-1 div.sk-text-repr-fallback {display: none;}</style><div id=\"sk-container-id-1\" class=\"sk-top-container\"><div class=\"sk-text-repr-fallback\"><pre>LogisticRegression(max_iter=1000)</pre><b>In a Jupyter environment, please rerun this cell to show the HTML representation or trust the notebook. <br />On GitHub, the HTML representation is unable to render, please try loading this page with nbviewer.org.</b></div><div class=\"sk-container\" hidden><div class=\"sk-item\"><div class=\"sk-estimator sk-toggleable\"><input class=\"sk-toggleable__control sk-hidden--visually\" id=\"sk-estimator-id-1\" type=\"checkbox\" checked><label for=\"sk-estimator-id-1\" class=\"sk-toggleable__label sk-toggleable__label-arrow\">LogisticRegression</label><div class=\"sk-toggleable__content\"><pre>LogisticRegression(max_iter=1000)</pre></div></div></div></div></div>"
            ],
            "text/plain": [
              "LogisticRegression(max_iter=1000)"
            ]
          },
          "execution_count": 90,
          "metadata": {},
          "output_type": "execute_result"
        }
      ],
      "source": [
        "lr=LogisticRegression(max_iter=1000)\n",
        "lr.fit(tfidfv_train,y_train)"
      ]
    },
    {
      "cell_type": "code",
      "execution_count": null,
      "id": "847c5395",
      "metadata": {
        "id": "847c5395"
      },
      "outputs": [],
      "source": [
        "y_pred=lr.predict(tfidfv_test)"
      ]
    },
    {
      "cell_type": "code",
      "execution_count": null,
      "id": "85aa3118",
      "metadata": {
        "id": "85aa3118",
        "outputId": "4407229d-f3c1-40a5-96c2-20c754ac7c09"
      },
      "outputs": [
        {
          "data": {
            "text/plain": [
              "0.9922397645169923"
            ]
          },
          "execution_count": 92,
          "metadata": {},
          "output_type": "execute_result"
        }
      ],
      "source": [
        "from sklearn.metrics import accuracy_score\n",
        "accuracy_score(y_test,y_pred)"
      ]
    },
    {
      "cell_type": "code",
      "execution_count": null,
      "id": "1d2f91e9",
      "metadata": {
        "id": "1d2f91e9",
        "outputId": "a2e7cb6a-1581-40ee-9a16-7657e10095e1"
      },
      "outputs": [
        {
          "data": {
            "text/html": [
              "<style>#sk-container-id-2 {color: black;background-color: white;}#sk-container-id-2 pre{padding: 0;}#sk-container-id-2 div.sk-toggleable {background-color: white;}#sk-container-id-2 label.sk-toggleable__label {cursor: pointer;display: block;width: 100%;margin-bottom: 0;padding: 0.3em;box-sizing: border-box;text-align: center;}#sk-container-id-2 label.sk-toggleable__label-arrow:before {content: \"▸\";float: left;margin-right: 0.25em;color: #696969;}#sk-container-id-2 label.sk-toggleable__label-arrow:hover:before {color: black;}#sk-container-id-2 div.sk-estimator:hover label.sk-toggleable__label-arrow:before {color: black;}#sk-container-id-2 div.sk-toggleable__content {max-height: 0;max-width: 0;overflow: hidden;text-align: left;background-color: #f0f8ff;}#sk-container-id-2 div.sk-toggleable__content pre {margin: 0.2em;color: black;border-radius: 0.25em;background-color: #f0f8ff;}#sk-container-id-2 input.sk-toggleable__control:checked~div.sk-toggleable__content {max-height: 200px;max-width: 100%;overflow: auto;}#sk-container-id-2 input.sk-toggleable__control:checked~label.sk-toggleable__label-arrow:before {content: \"▾\";}#sk-container-id-2 div.sk-estimator input.sk-toggleable__control:checked~label.sk-toggleable__label {background-color: #d4ebff;}#sk-container-id-2 div.sk-label input.sk-toggleable__control:checked~label.sk-toggleable__label {background-color: #d4ebff;}#sk-container-id-2 input.sk-hidden--visually {border: 0;clip: rect(1px 1px 1px 1px);clip: rect(1px, 1px, 1px, 1px);height: 1px;margin: -1px;overflow: hidden;padding: 0;position: absolute;width: 1px;}#sk-container-id-2 div.sk-estimator {font-family: monospace;background-color: #f0f8ff;border: 1px dotted black;border-radius: 0.25em;box-sizing: border-box;margin-bottom: 0.5em;}#sk-container-id-2 div.sk-estimator:hover {background-color: #d4ebff;}#sk-container-id-2 div.sk-parallel-item::after {content: \"\";width: 100%;border-bottom: 1px solid gray;flex-grow: 1;}#sk-container-id-2 div.sk-label:hover label.sk-toggleable__label {background-color: #d4ebff;}#sk-container-id-2 div.sk-serial::before {content: \"\";position: absolute;border-left: 1px solid gray;box-sizing: border-box;top: 0;bottom: 0;left: 50%;z-index: 0;}#sk-container-id-2 div.sk-serial {display: flex;flex-direction: column;align-items: center;background-color: white;padding-right: 0.2em;padding-left: 0.2em;position: relative;}#sk-container-id-2 div.sk-item {position: relative;z-index: 1;}#sk-container-id-2 div.sk-parallel {display: flex;align-items: stretch;justify-content: center;background-color: white;position: relative;}#sk-container-id-2 div.sk-item::before, #sk-container-id-2 div.sk-parallel-item::before {content: \"\";position: absolute;border-left: 1px solid gray;box-sizing: border-box;top: 0;bottom: 0;left: 50%;z-index: -1;}#sk-container-id-2 div.sk-parallel-item {display: flex;flex-direction: column;z-index: 1;position: relative;background-color: white;}#sk-container-id-2 div.sk-parallel-item:first-child::after {align-self: flex-end;width: 50%;}#sk-container-id-2 div.sk-parallel-item:last-child::after {align-self: flex-start;width: 50%;}#sk-container-id-2 div.sk-parallel-item:only-child::after {width: 0;}#sk-container-id-2 div.sk-dashed-wrapped {border: 1px dashed gray;margin: 0 0.4em 0.5em 0.4em;box-sizing: border-box;padding-bottom: 0.4em;background-color: white;}#sk-container-id-2 div.sk-label label {font-family: monospace;font-weight: bold;display: inline-block;line-height: 1.2em;}#sk-container-id-2 div.sk-label-container {text-align: center;}#sk-container-id-2 div.sk-container {/* jupyter's `normalize.less` sets `[hidden] { display: none; }` but bootstrap.min.css set `[hidden] { display: none !important; }` so we also need the `!important` here to be able to override the default hidden behavior on the sphinx rendered scikit-learn.org. See: https://github.com/scikit-learn/scikit-learn/issues/21755 */display: inline-block !important;position: relative;}#sk-container-id-2 div.sk-text-repr-fallback {display: none;}</style><div id=\"sk-container-id-2\" class=\"sk-top-container\"><div class=\"sk-text-repr-fallback\"><pre>PassiveAggressiveClassifier(max_iter=100)</pre><b>In a Jupyter environment, please rerun this cell to show the HTML representation or trust the notebook. <br />On GitHub, the HTML representation is unable to render, please try loading this page with nbviewer.org.</b></div><div class=\"sk-container\" hidden><div class=\"sk-item\"><div class=\"sk-estimator sk-toggleable\"><input class=\"sk-toggleable__control sk-hidden--visually\" id=\"sk-estimator-id-2\" type=\"checkbox\" checked><label for=\"sk-estimator-id-2\" class=\"sk-toggleable__label sk-toggleable__label-arrow\">PassiveAggressiveClassifier</label><div class=\"sk-toggleable__content\"><pre>PassiveAggressiveClassifier(max_iter=100)</pre></div></div></div></div></div>"
            ],
            "text/plain": [
              "PassiveAggressiveClassifier(max_iter=100)"
            ]
          },
          "execution_count": 95,
          "metadata": {},
          "output_type": "execute_result"
        }
      ],
      "source": [
        "from sklearn.linear_model import PassiveAggressiveClassifier\n",
        "pac=PassiveAggressiveClassifier(max_iter=100)\n",
        "pac.fit(tfidfv_train,y_train)"
      ]
    },
    {
      "cell_type": "code",
      "execution_count": null,
      "id": "6c5fa025",
      "metadata": {
        "id": "6c5fa025",
        "outputId": "e8eeb9f6-db01-45f8-d977-55c2b6b20bb1"
      },
      "outputs": [
        {
          "data": {
            "text/plain": [
              "0.9990634198554991"
            ]
          },
          "execution_count": 96,
          "metadata": {},
          "output_type": "execute_result"
        }
      ],
      "source": [
        "y_pred_pac=pac.predict(tfidfv_test)\n",
        "accuracy_score(y_test,y_pred_pac)"
      ]
    },
    {
      "cell_type": "code",
      "execution_count": null,
      "id": "4e4c2d3a",
      "metadata": {
        "id": "4e4c2d3a"
      },
      "outputs": [],
      "source": []
    }
  ],
  "metadata": {
    "kernelspec": {
      "display_name": "Python 3 (ipykernel)",
      "language": "python",
      "name": "python3"
    },
    "language_info": {
      "codemirror_mode": {
        "name": "ipython",
        "version": 3
      },
      "file_extension": ".py",
      "mimetype": "text/x-python",
      "name": "python",
      "nbconvert_exporter": "python",
      "pygments_lexer": "ipython3",
      "version": "3.10.7"
    },
    "colab": {
      "provenance": [],
      "include_colab_link": true
    }
  },
  "nbformat": 4,
  "nbformat_minor": 5
}